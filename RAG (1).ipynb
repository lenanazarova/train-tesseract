{
  "nbformat": 4,
  "nbformat_minor": 0,
  "metadata": {
    "colab": {
      "provenance": []
    },
    "kernelspec": {
      "name": "python3",
      "display_name": "Python 3"
    },
    "language_info": {
      "name": "python"
    }
  },
  "cells": [
    {
      "cell_type": "code",
      "execution_count": 1,
      "metadata": {
        "colab": {
          "base_uri": "https://localhost:8080/"
        },
        "id": "5_Qixq-GrFGo",
        "outputId": "57ec2283-5623-48fa-8bdf-9ecb82a12ea6"
      },
      "outputs": [
        {
          "output_type": "stream",
          "name": "stdout",
          "text": [
            "Requirement already satisfied: langchain in /usr/local/lib/python3.10/dist-packages (0.2.1)\n",
            "Requirement already satisfied: langchain-community in /usr/local/lib/python3.10/dist-packages (0.2.1)\n",
            "Requirement already satisfied: huggingface_hub in /usr/local/lib/python3.10/dist-packages (0.23.1)\n",
            "Requirement already satisfied: unstructured in /usr/local/lib/python3.10/dist-packages (0.14.2)\n",
            "Requirement already satisfied: pdfminer.six in /usr/local/lib/python3.10/dist-packages (20231228)\n",
            "Requirement already satisfied: PyYAML>=5.3 in /usr/local/lib/python3.10/dist-packages (from langchain) (6.0.1)\n",
            "Requirement already satisfied: SQLAlchemy<3,>=1.4 in /usr/local/lib/python3.10/dist-packages (from langchain) (2.0.30)\n",
            "Requirement already satisfied: aiohttp<4.0.0,>=3.8.3 in /usr/local/lib/python3.10/dist-packages (from langchain) (3.9.5)\n",
            "Requirement already satisfied: async-timeout<5.0.0,>=4.0.0 in /usr/local/lib/python3.10/dist-packages (from langchain) (4.0.3)\n",
            "Requirement already satisfied: langchain-core<0.3.0,>=0.2.0 in /usr/local/lib/python3.10/dist-packages (from langchain) (0.2.1)\n",
            "Requirement already satisfied: langchain-text-splitters<0.3.0,>=0.2.0 in /usr/local/lib/python3.10/dist-packages (from langchain) (0.2.0)\n",
            "Requirement already satisfied: langsmith<0.2.0,>=0.1.17 in /usr/local/lib/python3.10/dist-packages (from langchain) (0.1.63)\n",
            "Requirement already satisfied: numpy<2,>=1 in /usr/local/lib/python3.10/dist-packages (from langchain) (1.25.2)\n",
            "Requirement already satisfied: pydantic<3,>=1 in /usr/local/lib/python3.10/dist-packages (from langchain) (2.7.1)\n",
            "Requirement already satisfied: requests<3,>=2 in /usr/local/lib/python3.10/dist-packages (from langchain) (2.31.0)\n",
            "Requirement already satisfied: tenacity<9.0.0,>=8.1.0 in /usr/local/lib/python3.10/dist-packages (from langchain) (8.3.0)\n",
            "Requirement already satisfied: dataclasses-json<0.7,>=0.5.7 in /usr/local/lib/python3.10/dist-packages (from langchain-community) (0.6.6)\n",
            "Requirement already satisfied: filelock in /usr/local/lib/python3.10/dist-packages (from huggingface_hub) (3.14.0)\n",
            "Requirement already satisfied: fsspec>=2023.5.0 in /usr/local/lib/python3.10/dist-packages (from huggingface_hub) (2023.6.0)\n",
            "Requirement already satisfied: packaging>=20.9 in /usr/local/lib/python3.10/dist-packages (from huggingface_hub) (23.2)\n",
            "Requirement already satisfied: tqdm>=4.42.1 in /usr/local/lib/python3.10/dist-packages (from huggingface_hub) (4.66.4)\n",
            "Requirement already satisfied: typing-extensions>=3.7.4.3 in /usr/local/lib/python3.10/dist-packages (from huggingface_hub) (4.11.0)\n",
            "Requirement already satisfied: chardet in /usr/local/lib/python3.10/dist-packages (from unstructured) (5.2.0)\n",
            "Requirement already satisfied: filetype in /usr/local/lib/python3.10/dist-packages (from unstructured) (1.2.0)\n",
            "Requirement already satisfied: python-magic in /usr/local/lib/python3.10/dist-packages (from unstructured) (0.4.27)\n",
            "Requirement already satisfied: lxml in /usr/local/lib/python3.10/dist-packages (from unstructured) (4.9.4)\n",
            "Requirement already satisfied: nltk in /usr/local/lib/python3.10/dist-packages (from unstructured) (3.8.1)\n",
            "Requirement already satisfied: tabulate in /usr/local/lib/python3.10/dist-packages (from unstructured) (0.9.0)\n",
            "Requirement already satisfied: beautifulsoup4 in /usr/local/lib/python3.10/dist-packages (from unstructured) (4.12.3)\n",
            "Requirement already satisfied: emoji in /usr/local/lib/python3.10/dist-packages (from unstructured) (2.12.1)\n",
            "Requirement already satisfied: python-iso639 in /usr/local/lib/python3.10/dist-packages (from unstructured) (2024.4.27)\n",
            "Requirement already satisfied: langdetect in /usr/local/lib/python3.10/dist-packages (from unstructured) (1.0.9)\n",
            "Requirement already satisfied: rapidfuzz in /usr/local/lib/python3.10/dist-packages (from unstructured) (3.9.1)\n",
            "Requirement already satisfied: backoff in /usr/local/lib/python3.10/dist-packages (from unstructured) (2.2.1)\n",
            "Requirement already satisfied: unstructured-client in /usr/local/lib/python3.10/dist-packages (from unstructured) (0.22.0)\n",
            "Requirement already satisfied: wrapt in /usr/local/lib/python3.10/dist-packages (from unstructured) (1.14.1)\n",
            "Requirement already satisfied: charset-normalizer>=2.0.0 in /usr/local/lib/python3.10/dist-packages (from pdfminer.six) (3.3.2)\n",
            "Requirement already satisfied: cryptography>=36.0.0 in /usr/local/lib/python3.10/dist-packages (from pdfminer.six) (42.0.7)\n",
            "Requirement already satisfied: aiosignal>=1.1.2 in /usr/local/lib/python3.10/dist-packages (from aiohttp<4.0.0,>=3.8.3->langchain) (1.3.1)\n",
            "Requirement already satisfied: attrs>=17.3.0 in /usr/local/lib/python3.10/dist-packages (from aiohttp<4.0.0,>=3.8.3->langchain) (23.2.0)\n",
            "Requirement already satisfied: frozenlist>=1.1.1 in /usr/local/lib/python3.10/dist-packages (from aiohttp<4.0.0,>=3.8.3->langchain) (1.4.1)\n",
            "Requirement already satisfied: multidict<7.0,>=4.5 in /usr/local/lib/python3.10/dist-packages (from aiohttp<4.0.0,>=3.8.3->langchain) (6.0.5)\n",
            "Requirement already satisfied: yarl<2.0,>=1.0 in /usr/local/lib/python3.10/dist-packages (from aiohttp<4.0.0,>=3.8.3->langchain) (1.9.4)\n",
            "Requirement already satisfied: cffi>=1.12 in /usr/local/lib/python3.10/dist-packages (from cryptography>=36.0.0->pdfminer.six) (1.16.0)\n",
            "Requirement already satisfied: marshmallow<4.0.0,>=3.18.0 in /usr/local/lib/python3.10/dist-packages (from dataclasses-json<0.7,>=0.5.7->langchain-community) (3.21.2)\n",
            "Requirement already satisfied: typing-inspect<1,>=0.4.0 in /usr/local/lib/python3.10/dist-packages (from dataclasses-json<0.7,>=0.5.7->langchain-community) (0.9.0)\n",
            "Requirement already satisfied: jsonpatch<2.0,>=1.33 in /usr/local/lib/python3.10/dist-packages (from langchain-core<0.3.0,>=0.2.0->langchain) (1.33)\n",
            "Requirement already satisfied: orjson<4.0.0,>=3.9.14 in /usr/local/lib/python3.10/dist-packages (from langsmith<0.2.0,>=0.1.17->langchain) (3.10.3)\n",
            "Requirement already satisfied: annotated-types>=0.4.0 in /usr/local/lib/python3.10/dist-packages (from pydantic<3,>=1->langchain) (0.7.0)\n",
            "Requirement already satisfied: pydantic-core==2.18.2 in /usr/local/lib/python3.10/dist-packages (from pydantic<3,>=1->langchain) (2.18.2)\n",
            "Requirement already satisfied: idna<4,>=2.5 in /usr/local/lib/python3.10/dist-packages (from requests<3,>=2->langchain) (3.7)\n",
            "Requirement already satisfied: urllib3<3,>=1.21.1 in /usr/local/lib/python3.10/dist-packages (from requests<3,>=2->langchain) (2.0.7)\n",
            "Requirement already satisfied: certifi>=2017.4.17 in /usr/local/lib/python3.10/dist-packages (from requests<3,>=2->langchain) (2024.2.2)\n",
            "Requirement already satisfied: greenlet!=0.4.17 in /usr/local/lib/python3.10/dist-packages (from SQLAlchemy<3,>=1.4->langchain) (3.0.3)\n",
            "Requirement already satisfied: soupsieve>1.2 in /usr/local/lib/python3.10/dist-packages (from beautifulsoup4->unstructured) (2.5)\n",
            "Requirement already satisfied: six in /usr/local/lib/python3.10/dist-packages (from langdetect->unstructured) (1.16.0)\n",
            "Requirement already satisfied: click in /usr/local/lib/python3.10/dist-packages (from nltk->unstructured) (8.1.7)\n",
            "Requirement already satisfied: joblib in /usr/local/lib/python3.10/dist-packages (from nltk->unstructured) (1.4.2)\n",
            "Requirement already satisfied: regex>=2021.8.3 in /usr/local/lib/python3.10/dist-packages (from nltk->unstructured) (2023.12.25)\n",
            "Requirement already satisfied: deepdiff>=6.0 in /usr/local/lib/python3.10/dist-packages (from unstructured-client->unstructured) (7.0.1)\n",
            "Requirement already satisfied: jsonpath-python>=1.0.6 in /usr/local/lib/python3.10/dist-packages (from unstructured-client->unstructured) (1.0.6)\n",
            "Requirement already satisfied: mypy-extensions>=1.0.0 in /usr/local/lib/python3.10/dist-packages (from unstructured-client->unstructured) (1.0.0)\n",
            "Requirement already satisfied: pypdf>=4.0 in /usr/local/lib/python3.10/dist-packages (from unstructured-client->unstructured) (4.2.0)\n",
            "Requirement already satisfied: python-dateutil>=2.8.2 in /usr/local/lib/python3.10/dist-packages (from unstructured-client->unstructured) (2.8.2)\n",
            "Requirement already satisfied: pycparser in /usr/local/lib/python3.10/dist-packages (from cffi>=1.12->cryptography>=36.0.0->pdfminer.six) (2.22)\n",
            "Requirement already satisfied: ordered-set<4.2.0,>=4.1.0 in /usr/local/lib/python3.10/dist-packages (from deepdiff>=6.0->unstructured-client->unstructured) (4.1.0)\n",
            "Requirement already satisfied: jsonpointer>=1.9 in /usr/local/lib/python3.10/dist-packages (from jsonpatch<2.0,>=1.33->langchain-core<0.3.0,>=0.2.0->langchain) (2.4)\n",
            "Requirement already satisfied: sentence-transformers in /usr/local/lib/python3.10/dist-packages (2.7.0)\n",
            "Requirement already satisfied: transformers<5.0.0,>=4.34.0 in /usr/local/lib/python3.10/dist-packages (from sentence-transformers) (4.41.0)\n",
            "Requirement already satisfied: tqdm in /usr/local/lib/python3.10/dist-packages (from sentence-transformers) (4.66.4)\n",
            "Requirement already satisfied: torch>=1.11.0 in /usr/local/lib/python3.10/dist-packages (from sentence-transformers) (2.3.0+cu121)\n",
            "Requirement already satisfied: numpy in /usr/local/lib/python3.10/dist-packages (from sentence-transformers) (1.25.2)\n",
            "Requirement already satisfied: scikit-learn in /usr/local/lib/python3.10/dist-packages (from sentence-transformers) (1.2.2)\n",
            "Requirement already satisfied: scipy in /usr/local/lib/python3.10/dist-packages (from sentence-transformers) (1.11.4)\n",
            "Requirement already satisfied: huggingface-hub>=0.15.1 in /usr/local/lib/python3.10/dist-packages (from sentence-transformers) (0.23.1)\n",
            "Requirement already satisfied: Pillow in /usr/local/lib/python3.10/dist-packages (from sentence-transformers) (10.3.0)\n",
            "Requirement already satisfied: filelock in /usr/local/lib/python3.10/dist-packages (from huggingface-hub>=0.15.1->sentence-transformers) (3.14.0)\n",
            "Requirement already satisfied: fsspec>=2023.5.0 in /usr/local/lib/python3.10/dist-packages (from huggingface-hub>=0.15.1->sentence-transformers) (2023.6.0)\n",
            "Requirement already satisfied: packaging>=20.9 in /usr/local/lib/python3.10/dist-packages (from huggingface-hub>=0.15.1->sentence-transformers) (23.2)\n",
            "Requirement already satisfied: pyyaml>=5.1 in /usr/local/lib/python3.10/dist-packages (from huggingface-hub>=0.15.1->sentence-transformers) (6.0.1)\n",
            "Requirement already satisfied: requests in /usr/local/lib/python3.10/dist-packages (from huggingface-hub>=0.15.1->sentence-transformers) (2.31.0)\n",
            "Requirement already satisfied: typing-extensions>=3.7.4.3 in /usr/local/lib/python3.10/dist-packages (from huggingface-hub>=0.15.1->sentence-transformers) (4.11.0)\n",
            "Requirement already satisfied: sympy in /usr/local/lib/python3.10/dist-packages (from torch>=1.11.0->sentence-transformers) (1.12)\n",
            "Requirement already satisfied: networkx in /usr/local/lib/python3.10/dist-packages (from torch>=1.11.0->sentence-transformers) (3.3)\n",
            "Requirement already satisfied: jinja2 in /usr/local/lib/python3.10/dist-packages (from torch>=1.11.0->sentence-transformers) (3.1.4)\n",
            "Requirement already satisfied: nvidia-cuda-nvrtc-cu12==12.1.105 in /usr/local/lib/python3.10/dist-packages (from torch>=1.11.0->sentence-transformers) (12.1.105)\n",
            "Requirement already satisfied: nvidia-cuda-runtime-cu12==12.1.105 in /usr/local/lib/python3.10/dist-packages (from torch>=1.11.0->sentence-transformers) (12.1.105)\n",
            "Requirement already satisfied: nvidia-cuda-cupti-cu12==12.1.105 in /usr/local/lib/python3.10/dist-packages (from torch>=1.11.0->sentence-transformers) (12.1.105)\n",
            "Requirement already satisfied: nvidia-cudnn-cu12==8.9.2.26 in /usr/local/lib/python3.10/dist-packages (from torch>=1.11.0->sentence-transformers) (8.9.2.26)\n",
            "Requirement already satisfied: nvidia-cublas-cu12==12.1.3.1 in /usr/local/lib/python3.10/dist-packages (from torch>=1.11.0->sentence-transformers) (12.1.3.1)\n",
            "Requirement already satisfied: nvidia-cufft-cu12==11.0.2.54 in /usr/local/lib/python3.10/dist-packages (from torch>=1.11.0->sentence-transformers) (11.0.2.54)\n",
            "Requirement already satisfied: nvidia-curand-cu12==10.3.2.106 in /usr/local/lib/python3.10/dist-packages (from torch>=1.11.0->sentence-transformers) (10.3.2.106)\n",
            "Requirement already satisfied: nvidia-cusolver-cu12==11.4.5.107 in /usr/local/lib/python3.10/dist-packages (from torch>=1.11.0->sentence-transformers) (11.4.5.107)\n",
            "Requirement already satisfied: nvidia-cusparse-cu12==12.1.0.106 in /usr/local/lib/python3.10/dist-packages (from torch>=1.11.0->sentence-transformers) (12.1.0.106)\n",
            "Requirement already satisfied: nvidia-nccl-cu12==2.20.5 in /usr/local/lib/python3.10/dist-packages (from torch>=1.11.0->sentence-transformers) (2.20.5)\n",
            "Requirement already satisfied: nvidia-nvtx-cu12==12.1.105 in /usr/local/lib/python3.10/dist-packages (from torch>=1.11.0->sentence-transformers) (12.1.105)\n",
            "Requirement already satisfied: triton==2.3.0 in /usr/local/lib/python3.10/dist-packages (from torch>=1.11.0->sentence-transformers) (2.3.0)\n",
            "Requirement already satisfied: nvidia-nvjitlink-cu12 in /usr/local/lib/python3.10/dist-packages (from nvidia-cusolver-cu12==11.4.5.107->torch>=1.11.0->sentence-transformers) (12.5.40)\n",
            "Requirement already satisfied: regex!=2019.12.17 in /usr/local/lib/python3.10/dist-packages (from transformers<5.0.0,>=4.34.0->sentence-transformers) (2023.12.25)\n",
            "Requirement already satisfied: tokenizers<0.20,>=0.19 in /usr/local/lib/python3.10/dist-packages (from transformers<5.0.0,>=4.34.0->sentence-transformers) (0.19.1)\n",
            "Requirement already satisfied: safetensors>=0.4.1 in /usr/local/lib/python3.10/dist-packages (from transformers<5.0.0,>=4.34.0->sentence-transformers) (0.4.3)\n",
            "Requirement already satisfied: joblib>=1.1.1 in /usr/local/lib/python3.10/dist-packages (from scikit-learn->sentence-transformers) (1.4.2)\n",
            "Requirement already satisfied: threadpoolctl>=2.0.0 in /usr/local/lib/python3.10/dist-packages (from scikit-learn->sentence-transformers) (3.5.0)\n",
            "Requirement already satisfied: MarkupSafe>=2.0 in /usr/local/lib/python3.10/dist-packages (from jinja2->torch>=1.11.0->sentence-transformers) (2.1.5)\n",
            "Requirement already satisfied: charset-normalizer<4,>=2 in /usr/local/lib/python3.10/dist-packages (from requests->huggingface-hub>=0.15.1->sentence-transformers) (3.3.2)\n",
            "Requirement already satisfied: idna<4,>=2.5 in /usr/local/lib/python3.10/dist-packages (from requests->huggingface-hub>=0.15.1->sentence-transformers) (3.7)\n",
            "Requirement already satisfied: urllib3<3,>=1.21.1 in /usr/local/lib/python3.10/dist-packages (from requests->huggingface-hub>=0.15.1->sentence-transformers) (2.0.7)\n",
            "Requirement already satisfied: certifi>=2017.4.17 in /usr/local/lib/python3.10/dist-packages (from requests->huggingface-hub>=0.15.1->sentence-transformers) (2024.2.2)\n",
            "Requirement already satisfied: mpmath>=0.19 in /usr/local/lib/python3.10/dist-packages (from sympy->torch>=1.11.0->sentence-transformers) (1.3.0)\n",
            "Requirement already satisfied: faiss-gpu in /usr/local/lib/python3.10/dist-packages (1.7.2)\n",
            "Requirement already satisfied: pypdf in /usr/local/lib/python3.10/dist-packages (4.2.0)\n",
            "Requirement already satisfied: typing_extensions>=4.0 in /usr/local/lib/python3.10/dist-packages (from pypdf) (4.11.0)\n"
          ]
        }
      ],
      "source": [
        "!pip install langchain langchain-community huggingface_hub unstructured pdfminer.six\n",
        "#!wget https://raw.githubusercontent.com/a-milenkin/LLM_practical_course/main/notebooks/utils.py\n",
        "#!pip install pillow_heif pdf2image\n",
        "!pip install sentence-transformers\n",
        "!pip install faiss-gpu\n",
        "!pip install pypdf\n",
        "\n",
        "import os\n",
        "import pandas as pd\n",
        "import numpy as np\n",
        "from langchain.schema import StrOutputParser\n",
        "from langchain_core.prompts import ChatPromptTemplate\n",
        "from langchain_core.runnables import RunnablePassthrough\n",
        "from langchain.prompts import PromptTemplate\n",
        "from langchain.chains import LLMChain\n",
        "from langchain_community.llms import HuggingFaceEndpoint\n",
        "from tqdm import tqdm\n",
        "\n",
        "os.environ['HUGGINGFACEHUB_API_TOKEN'] = ''"
      ]
    },
    {
      "cell_type": "code",
      "source": [
        "text = \"\"\"\n",
        "1. Вступление\n",
        "Описание курса, начальные требования, для кого этот курс.\n",
        "1.1 Как правильно входить в курс\n",
        "Цели курса, канал и комьюнити, глоссарий, PET-проект, хард режим vs лайт режим?\n",
        "1.2 Общий подход и точки улучшения приложений с LLM\n",
        "Рассказываем почему важно разбираться в LLM. Нужен ли ИИ обычному человеку?\n",
        "1.3 API ключ курса или от OpenAI?\n",
        "1.3.1 Ключ от команды курса\n",
        "Получаем ключ в боте.\n",
        "1.3.2 Ключ от OpenAI\n",
        "Получаем официальный ключ от OpenAI.\n",
        "1.3.3 Ключ от HuggingFace\n",
        "Ныряем в Open Source и получаем ключ от HuggingFace.\n",
        "2. Промптинг - объясни LLM, что тебе от неё надо!\n",
        "2.1 Введение в Prompt Engineering\n",
        "Поясняем за промпты. Техники и лайфхаки для промптинга. Из чего состоит промпт?\n",
        "2.2 Дизайн промптов в LangChain\n",
        "Few-shot learning. Output Parser.\n",
        "2.2.1 Введение в LangChain\n",
        "Рассказываем про преимущества LangChain.\n",
        "3. LangChain или причем тут попугаи?\n",
        "3.1 Память в LangChain\n",
        "Переводим LLM в чат-режим. Типы памяти.\n",
        "3.2 Chains - собери свою цепь\n",
        "Chains & LCEL.\n",
        "3.3 Агенты intro\n",
        "Агенты и цепи. Инструменты (tools).\n",
        "\"\"\""
      ],
      "metadata": {
        "id": "bsDnIT5QrLHT"
      },
      "execution_count": 2,
      "outputs": []
    },
    {
      "cell_type": "code",
      "source": [
        "text.split('\\n')"
      ],
      "metadata": {
        "colab": {
          "base_uri": "https://localhost:8080/"
        },
        "id": "64q5B4aYrQFf",
        "outputId": "c546787c-b588-41f1-ab99-c00cd93e0420"
      },
      "execution_count": 3,
      "outputs": [
        {
          "output_type": "execute_result",
          "data": {
            "text/plain": [
              "['',\n",
              " '1. Вступление',\n",
              " 'Описание курса, начальные требования, для кого этот курс.',\n",
              " '1.1 Как правильно входить в курс',\n",
              " 'Цели курса, канал и комьюнити, глоссарий, PET-проект, хард режим vs лайт режим?',\n",
              " '1.2 Общий подход и точки улучшения приложений с LLM',\n",
              " 'Рассказываем почему важно разбираться в LLM. Нужен ли ИИ обычному человеку?',\n",
              " '1.3 API ключ курса или от OpenAI?',\n",
              " '1.3.1 Ключ от команды курса',\n",
              " 'Получаем ключ в боте.',\n",
              " '1.3.2 Ключ от OpenAI',\n",
              " 'Получаем официальный ключ от OpenAI.',\n",
              " '1.3.3 Ключ от HuggingFace',\n",
              " 'Ныряем в Open Source и получаем ключ от HuggingFace.',\n",
              " '2. Промптинг - объясни LLM, что тебе от неё надо!',\n",
              " '2.1 Введение в Prompt Engineering',\n",
              " 'Поясняем за промпты. Техники и лайфхаки для промптинга. Из чего состоит промпт?',\n",
              " '2.2 Дизайн промптов в LangChain',\n",
              " 'Few-shot learning. Output Parser.',\n",
              " '2.2.1 Введение в LangChain',\n",
              " 'Рассказываем про преимущества LangChain.',\n",
              " '3. LangChain или причем тут попугаи?',\n",
              " '3.1 Память в LangChain',\n",
              " 'Переводим LLM в чат-режим. Типы памяти.',\n",
              " '3.2 Chains - собери свою цепь',\n",
              " 'Chains & LCEL.',\n",
              " '3.3 Агенты intro',\n",
              " 'Агенты и цепи. Инструменты (tools).',\n",
              " '']"
            ]
          },
          "metadata": {},
          "execution_count": 3
        }
      ]
    },
    {
      "cell_type": "code",
      "source": [
        "def get_content_from_sections(text: str): # -> List[str]:\n",
        "    out = []\n",
        "    box = []\n",
        "    headers = [str(i)+'.' for i in range(1, 100)]\n",
        "    len_text = len(text.split('\\n'))\n",
        "    for index, i in enumerate(text.split('\\n'), 1):\n",
        "      if i.strip():\n",
        "        if (box and i.split()[0] in headers):\n",
        "          out.append(\" \".join(box))\n",
        "          box = []\n",
        "\n",
        "        if not i.split()[0].replace('.', '').isdigit():\n",
        "          box.append(i)\n",
        "\n",
        "      if (index == len_text) and box:\n",
        "        out.append(\" \".join(box))\n",
        "        box = []\n",
        "    return out"
      ],
      "metadata": {
        "id": "csgCcFeorQtS"
      },
      "execution_count": 4,
      "outputs": []
    },
    {
      "cell_type": "code",
      "source": [
        "get_content_from_sections(text)"
      ],
      "metadata": {
        "colab": {
          "base_uri": "https://localhost:8080/"
        },
        "id": "aabMeF4jsQT8",
        "outputId": "a25aa79e-29bd-494c-fda5-979bd7c89c8b"
      },
      "execution_count": 5,
      "outputs": [
        {
          "output_type": "execute_result",
          "data": {
            "text/plain": [
              "['Описание курса, начальные требования, для кого этот курс. Цели курса, канал и комьюнити, глоссарий, PET-проект, хард режим vs лайт режим? Рассказываем почему важно разбираться в LLM. Нужен ли ИИ обычному человеку? Получаем ключ в боте. Получаем официальный ключ от OpenAI. Ныряем в Open Source и получаем ключ от HuggingFace.',\n",
              " 'Поясняем за промпты. Техники и лайфхаки для промптинга. Из чего состоит промпт? Few-shot learning. Output Parser. Рассказываем про преимущества LangChain.',\n",
              " 'Переводим LLM в чат-режим. Типы памяти. Chains & LCEL. Агенты и цепи. Инструменты (tools).']"
            ]
          },
          "metadata": {},
          "execution_count": 5
        }
      ]
    },
    {
      "cell_type": "markdown",
      "source": [
        "# RAG"
      ],
      "metadata": {
        "id": "9oe5jLFlOk8s"
      }
    },
    {
      "cell_type": "code",
      "source": [
        "df = pd.read_csv('/content/pushkin_questions.csv')"
      ],
      "metadata": {
        "id": "P31jc5kJsoGf"
      },
      "execution_count": 6,
      "outputs": []
    },
    {
      "cell_type": "code",
      "source": [
        "from langchain_community.document_loaders import PyPDFLoader\n",
        "\n",
        "loader = PyPDFLoader(\"/content/The_Daughter_of_The_Commandant.pdf\")\n",
        "docs = loader.load_and_split()"
      ],
      "metadata": {
        "id": "KD_YghPoOHlL"
      },
      "execution_count": 7,
      "outputs": []
    },
    {
      "cell_type": "code",
      "source": [
        "loader"
      ],
      "metadata": {
        "colab": {
          "base_uri": "https://localhost:8080/"
        },
        "id": "QR8yEzGQOa9e",
        "outputId": "2a21108a-2939-429f-cec4-042ef153d888"
      },
      "execution_count": 8,
      "outputs": [
        {
          "output_type": "execute_result",
          "data": {
            "text/plain": [
              "<langchain_community.document_loaders.pdf.PyPDFLoader at 0x78672ff530d0>"
            ]
          },
          "metadata": {},
          "execution_count": 8
        }
      ]
    },
    {
      "cell_type": "code",
      "source": [
        "docs[1].page_content"
      ],
      "metadata": {
        "colab": {
          "base_uri": "https://localhost:8080/",
          "height": 178
        },
        "collapsed": true,
        "id": "B7Vr6ns0OquJ",
        "outputId": "7d2c988a-1bec-4246-d5f4-6a3f34928016"
      },
      "execution_count": 9,
      "outputs": [
        {
          "output_type": "execute_result",
          "data": {
            "text/plain": [
              "'www.a4format.ru   \\n 2\\nнелестно  отзывается  о дочери  коменданта  Миронова  Маше . Швабрин  и Гринев  при-\\nглашены  на обед  в семью  коменданта . По пути  Гринев  видит  «учения »: комендант  Иван  \\nКузьмич  Миронов  командует  взводом  инвалидов . Сам он при этом  одет  «в колпаке  \\nи китайчатом  халате ». \\nГлава  4 \\nПоединок  \\nГринев  очень  привязывается  к семейству  коменданта . Его производят  в офицеры . \\nГринев  много  общается  со Швабриным , но тот ему нравится  все меньше , а особенно  его \\nколкие  замечания  о Маше . Гринев  посвящает  Маше  посредственные  любовные  стихи . \\nШвабрин  резко  их критикует , в разговоре  с Гриневым  оскорбляет  Машу . Гринев  называет  \\nего лжецом , Швабрин  требует  сатисфакции . Перед  дуэлью  по приказанию  Василисы  \\nЕгоровны  их арестовывают , дворовая  девка  Палашка  даже  отнимает  у них шпаги . Через  \\nнекоторое  время  Гринев  узнает  от Маши , что Швабрин  за нее сватался , а она отказала  (этим  \\nи объясняется  упорное  злословие  Швабрина  в адрес  девушки ). Дуэль  возобновляется , \\nГринев  ранен . \\nГлава  5 \\nЛюбовь  \\nМаша  и Савельич  ухаживают  за раненым . Гринев  делает  Маше  предложение . Пишет  \\nписьмо  родителям . Швабрин  приходит  навестить  Гринева , признает , что сам был виноват . \\nОтец  Гринева  отказывает  сыну  в благословении  (ему известно  и о дуэли , но не от \\nСавельича . Гринев  решает , что отцу  сообщил  Швабрин ). Маша  избегает  Гринева , не хочет  \\nсвадьбы  без согласия  родителей . Гринев  перестает  бывать  в доме  Мироновых , падает  \\nдухом . \\nГлава  6 \\nПугачевщина  \\nКомендант  получает  уведомление  о разбойничьей  шайке  Емельяна  Пугачева , на-\\nпадающей  на крепости . Василиса  Егоровна  все выведывает , и слухи  о приступе  распро -\\nстраняются  по всей  крепости . Пугачев  призывает  противника  сдаваться . Одно  из воз-\\nзваний  попадает  в руки  Миронова  через  пойманного  башкирца , у которого  нет носа , ушей  \\nи языка  (последствия  пыток ). Иван  Кузьмич  решает  отослать  Машу  из крепости . Маша  \\nпрощается  с Гриневым . Василиса  Егоровна  отказывается  уезжать  и остается  с мужем . \\nГлава  7 \\nПриступ  \\nНочью  казаки  уходят  из Белогорской  крепости  под знамена  Пугачева . Пугачевцы  \\nнападают  на крепость . Комендант  и немногочисленные  защитники  крепости  обороняются , \\nно силы  неравны . Захватив  крепость , Пугачев  устраивает  «суд». \\nИвана  Кузьмича  и его товарищей  казнят  (вешают ). Когда  очередь  доходит  до Гринева , \\nСавельич  бросается  в ноги  Пугачеву , умоляя  пощадить  «барского  дитятю », обещает  \\nвыкуп . Пугачев  соглашается . Жители  города  и гарнизонные  солдаты  присягают  Пугачеву . \\nНа крыльцо  выводят  раздетую  Василису  Егоровну , убивают  ее. Пугачев  уезжает . \\nГлава  8 \\nНезваный  гость  \\nГринева  мучает  мысль  о судьбе  Маши . Ее прячет  у себя попадья , от которой  Гринев  \\nузнает , что Швабрин  перешел  на сторону  Пугачева . Савельич  сообщает  Гриневу , что \\nузнал  в Пугачеве  вожатого . Пугачев  зовет  Гринева  к себе. Гринев  отправляется . «Все \\nобходились  между  собою  как товарищи  и не оказывали  никакого  особенного  предпочте -\\nния своему  предводителю ... Каждый  хвастал , предлагал  свои  мнения  и свободно  оспори -'"
            ],
            "application/vnd.google.colaboratory.intrinsic+json": {
              "type": "string"
            }
          },
          "metadata": {},
          "execution_count": 9
        }
      ]
    },
    {
      "cell_type": "code",
      "source": [
        "# SPLITTING\n",
        "from langchain.text_splitter import (\n",
        "    CharacterTextSplitter,\n",
        "    RecursiveCharacterTextSplitter,\n",
        ")\n",
        "'''\n",
        "splitter = RecursiveCharacterTextSplitter(\n",
        "    chunk_size=500,\n",
        "    chunk_overlap=100,\n",
        "    length_function=len,\n",
        ")\n",
        "'''\n",
        "splitter = CharacterTextSplitter(\n",
        "    separator=\"Глава\",  # символ-разделитель, по умолчанию переход к новому абзацу '\\n\\n'\n",
        "    chunk_size=500,  # размер документа в символах\n",
        "    chunk_overlap=100,  # насколько соседние документы могут перекрывать друг-друга\n",
        "    length_function=len,  # функция, по которой считается размер документа\n",
        "    is_separator_regex=False,  # является ли разделитель регулярным выражением\n",
        ")\n",
        "\n",
        "\n",
        "split_documents = splitter.create_documents([doc.page_content for doc in docs])\n",
        "len(split_documents)"
      ],
      "metadata": {
        "colab": {
          "base_uri": "https://localhost:8080/"
        },
        "id": "3Z0INrQpS8fi",
        "outputId": "0da29c9b-27cf-4dbf-85ae-c92995124369"
      },
      "execution_count": 10,
      "outputs": [
        {
          "output_type": "stream",
          "name": "stderr",
          "text": [
            "WARNING:langchain_text_splitters.base:Created a chunk of size 1326, which is longer than the specified 500\n",
            "WARNING:langchain_text_splitters.base:Created a chunk of size 1420, which is longer than the specified 500\n",
            "WARNING:langchain_text_splitters.base:Created a chunk of size 758, which is longer than the specified 500\n",
            "WARNING:langchain_text_splitters.base:Created a chunk of size 560, which is longer than the specified 500\n",
            "WARNING:langchain_text_splitters.base:Created a chunk of size 620, which is longer than the specified 500\n",
            "WARNING:langchain_text_splitters.base:Created a chunk of size 786, which is longer than the specified 500\n",
            "WARNING:langchain_text_splitters.base:Created a chunk of size 1516, which is longer than the specified 500\n",
            "WARNING:langchain_text_splitters.base:Created a chunk of size 546, which is longer than the specified 500\n"
          ]
        },
        {
          "output_type": "execute_result",
          "data": {
            "text/plain": [
              "18"
            ]
          },
          "metadata": {},
          "execution_count": 10
        }
      ]
    },
    {
      "cell_type": "code",
      "source": [
        "split_documents[0]"
      ],
      "metadata": {
        "colab": {
          "base_uri": "https://localhost:8080/"
        },
        "id": "vRdedfACT6HP",
        "outputId": "47f8d925-3d9a-4de3-dde2-9c052a86aec2"
      },
      "execution_count": 11,
      "outputs": [
        {
          "output_type": "execute_result",
          "data": {
            "text/plain": [
              "Document(page_content='www.a4format.ru   \\nВсе произведения  школьной  программы  в кратком  изложении . — М.: АСТ , 1996.  \\n \\nИ.О. Родин , Т.М. Пименова  \\nКапитанская  дочка  \\nКраткое  содержание  \\nГлава  1 \\nСержант  гвардии')"
            ]
          },
          "metadata": {},
          "execution_count": 11
        }
      ]
    },
    {
      "cell_type": "code",
      "source": [
        "#EMBEDDING\n",
        "from langchain.embeddings import HuggingFaceEmbeddings\n",
        "\n",
        "# Если у вас нет видеокарты, укажите 'device': 'cpu'\n",
        "hf_embeddings_model = HuggingFaceEmbeddings(\n",
        "    model_name=\"cointegrated/LaBSE-en-ru\", model_kwargs={\"device\": \"cpu\"}\n",
        ")\n",
        "\n",
        "#embeddings = hf_embeddings_model.embed_documents(\n",
        "#    [doc.page_content for doc in split_documents]\n",
        "#)"
      ],
      "metadata": {
        "colab": {
          "base_uri": "https://localhost:8080/"
        },
        "id": "hQi_Qx-KUv4A",
        "outputId": "f8014169-3a0d-4e67-b601-5577f9292899"
      },
      "execution_count": 12,
      "outputs": [
        {
          "output_type": "stream",
          "name": "stderr",
          "text": [
            "/usr/local/lib/python3.10/dist-packages/huggingface_hub/utils/_token.py:89: UserWarning: \n",
            "The secret `HF_TOKEN` does not exist in your Colab secrets.\n",
            "To authenticate with the Hugging Face Hub, create a token in your settings tab (https://huggingface.co/settings/tokens), set it as secret in your Google Colab and restart your session.\n",
            "You will be able to reuse this secret in all of your notebooks.\n",
            "Please note that authentication is recommended but still optional to access public models or datasets.\n",
            "  warnings.warn(\n",
            "/usr/local/lib/python3.10/dist-packages/huggingface_hub/file_download.py:1132: FutureWarning: `resume_download` is deprecated and will be removed in version 1.0.0. Downloads always resume when possible. If you want to force a new download, use `force_download=True`.\n",
            "  warnings.warn(\n"
          ]
        }
      ]
    },
    {
      "cell_type": "code",
      "source": [
        "#VECTOR STORE\n",
        "from langchain.vectorstores import FAISS\n",
        "\n",
        "db = FAISS.from_documents(\n",
        "    split_documents, hf_embeddings_model\n",
        ")\n",
        "db.save_local(\"faiss_db\")  # можно сохранить базу локально, указав путь"
      ],
      "metadata": {
        "id": "--xedycduU-z"
      },
      "execution_count": 13,
      "outputs": []
    },
    {
      "cell_type": "code",
      "source": [
        "df['question'].iloc[1]"
      ],
      "metadata": {
        "colab": {
          "base_uri": "https://localhost:8080/",
          "height": 35
        },
        "id": "mi4Ap_va08X6",
        "outputId": "c7d36d51-0a8b-49c6-a729-bd893dbc4734"
      },
      "execution_count": 14,
      "outputs": [
        {
          "output_type": "execute_result",
          "data": {
            "text/plain": [
              "'Где Маша остановилась в Петербурге?'"
            ],
            "application/vnd.google.colaboratory.intrinsic+json": {
              "type": "string"
            }
          },
          "metadata": {},
          "execution_count": 14
        }
      ]
    },
    {
      "cell_type": "code",
      "source": [
        "# База готова, теперь можно делать к ней запросы\n",
        "db.similarity_search(df['question'].iloc[1])"
      ],
      "metadata": {
        "colab": {
          "base_uri": "https://localhost:8080/"
        },
        "id": "LGfEH8K3vysq",
        "outputId": "a457a480-8086-41ae-9687-369e2c70b59f"
      },
      "execution_count": 15,
      "outputs": [
        {
          "output_type": "execute_result",
          "data": {
            "text/plain": [
              "[Document(page_content='14 \\nСуд \\nПо обвинению  Швабрина  Гринева  подозревают  в том, что он служил  Пугачеву . \\nГринева  приговаривают  к ссылке  в Сибирь . Родители  Гринева  очень  привязались  к Маше . \\nНе желая  злоупотреблять  их великодушием , Маша  едет в Петербург , останавливается  \\nв Царском  Селе , в саду  встречает  императрицу  и просит  о милости  к Гриневу , объясняя , \\nчто он попал  к Пугачеву  из-за нее. На аудиенции  императрица  обещает  устроить  судьбу  \\nМаши  и простить  Гринева . Гринева  освобождают  из-под стражи . «Он присутствовал  при \\nказни  Пугачева , который  узнал  его в толпе  и кивнул  ему головой , которая  через  минуту , \\nмертвая  и окровавленная , показана  была  народу ».'),\n",
              " Document(page_content='11 \\nМятежная  слобода  \\nГринев  и Савельич  одни  отправляются  на помощь  Маше . По дороге  их хватают  \\nлюди  Пугачева . Пугачев  допрашивает  Гринева  о его намерениях  в присутствии  наперс -\\nников . «Один  из них, тщедушный  и сгорбленный  старичок  с седою  бородкою , не имел  \\nв себе ничего  замечательного , кроме  голубой  ленты , надетой  через  плечо  по серому  \\nармяку . Но ввек не забуду  его товарища . Он был высокого  росту , дороден  и широкоплеч , \\nи показался  мне лет сорока  пяти . Густая  рыжая  борода , серые  сверкающие  глаза , нос без \\nноздрей  и красноватые  пятна  на лбу и на щеках  придавали  его рябому  широкому  лицу  \\nвыражение  неизъяснимое ». Гринев  признается , что едет спасать  сироту  от притязаний  \\nШвабрина . Наперсники  предлагают  разобраться  не только  со Швабриным , но и с Грине -\\nвым — повесить  обоих . Пугачев  относится  к Гриневу  с явной  симпатией  («долг  платежом  \\nкрасен »), обещает  женить  его на Маше . Утром  Гринев  в кибитке  Пугачева  едет в кре-\\nпость . В доверительной  беседе  Пугачев  говорит  ему, что хотел  бы пойти  на Москву , но \\n«улица  моя тесна ; воли  мне мало . Ребята  мои умничают . Они воры . Мне должно  держать  \\nухо востро ; при первой  неудаче  они свою  шею  выкупят  моею  головою ». Пугачев  \\nрассказывает  Гриневу  калмыцкую  сказку  об орле  и вороне  (ворон  клевал  падаль , но жил \\nдо 300 лет, а орел  был согласен  голодать , «лучше  раз напиться  живой  кровью », но падали  \\nне есть, «а там — что Бог даст»).'),\n",
              " Document(page_content='12 \\nСирота  \\nВ крепости  Пугачев  выясняет , что Швабрин  издевается  над Машей , морит  ее \\nголодом . Пугачев  «волею  государя » освобождает  девушку , хочет  тут же обвенчать  ее'),\n",
              " Document(page_content='13 \\nАрест  \\nПо дороге  из крепости  солдаты  арестовывают  Гринева , приняв  его за пугачевца , \\nотводят  к своему  начальнику , который  оказываемся  Зуриным . По его совету  Гринев  реша -\\nет отправить  Машу  с Савельичем .к своим  родителям , а самому  продолжать  сражаться . \\n«Пугачев  был разбит , но не был пойман » и собрал  в Сибири  новые  отряды . Его \\nпреследуют , ловят , война  заканчивается . Зурин  получает  приказ  арестовать  Гринева  и от-\\nправить  его под караулом  в Казань  в Следственную  комиссию  по делу  Пугачева .')]"
            ]
          },
          "metadata": {},
          "execution_count": 15
        }
      ]
    },
    {
      "cell_type": "code",
      "source": [
        "#RETRIEVER\n",
        "\n",
        "# Самый частый кейс - использование векторного хранилища и его методов для получения документов\n",
        "retriever = db.as_retriever(\n",
        "    search_type=\"similarity\",  # тип поиска похожих документов\n",
        "    k=2,  # количество возвращаемых документов (Default: 4)\n",
        "    score_threshold=1.6,  # минимальный порог для поиска \"similarity_score_threshold\"\n",
        ")\n",
        "retriever.get_relevant_documents(\n",
        "    df['question'].iloc[1]\n",
        ")[0]"
      ],
      "metadata": {
        "colab": {
          "base_uri": "https://localhost:8080/"
        },
        "id": "ek07-GkGwCZJ",
        "outputId": "a4b1fab9-672c-4e99-dd47-21682db60cea"
      },
      "execution_count": 16,
      "outputs": [
        {
          "output_type": "stream",
          "name": "stderr",
          "text": [
            "/usr/local/lib/python3.10/dist-packages/langchain_core/_api/deprecation.py:119: LangChainDeprecationWarning: The method `BaseRetriever.get_relevant_documents` was deprecated in langchain-core 0.1.46 and will be removed in 0.3.0. Use invoke instead.\n",
            "  warn_deprecated(\n"
          ]
        },
        {
          "output_type": "execute_result",
          "data": {
            "text/plain": [
              "Document(page_content='14 \\nСуд \\nПо обвинению  Швабрина  Гринева  подозревают  в том, что он служил  Пугачеву . \\nГринева  приговаривают  к ссылке  в Сибирь . Родители  Гринева  очень  привязались  к Маше . \\nНе желая  злоупотреблять  их великодушием , Маша  едет в Петербург , останавливается  \\nв Царском  Селе , в саду  встречает  императрицу  и просит  о милости  к Гриневу , объясняя , \\nчто он попал  к Пугачеву  из-за нее. На аудиенции  императрица  обещает  устроить  судьбу  \\nМаши  и простить  Гринева . Гринева  освобождают  из-под стражи . «Он присутствовал  при \\nказни  Пугачева , который  узнал  его в толпе  и кивнул  ему головой , которая  через  минуту , \\nмертвая  и окровавленная , показана  была  народу ».')"
            ]
          },
          "metadata": {},
          "execution_count": 16
        }
      ]
    },
    {
      "cell_type": "code",
      "source": [
        "# FINAL PROMPT\n",
        "llm = HuggingFaceEndpoint(repo_id=\"mistralai/Mixtral-8x7B-Instruct-v0.1\")\n",
        "#llm_chain = LLMChain(prompt=prompt, llm=llm)\n",
        "\n",
        "# Создаём простой шаблон\n",
        "template = \"\"\"\n",
        "Answer the question based only on the following context:\n",
        "\n",
        "{context}\n",
        "\n",
        "Question: {question}\n",
        "\n",
        "Answer only in russian.\n",
        "\"\"\"\n",
        "# Создаём промпт из шаблона\n",
        "#prompt = PromptTemplate(template=template, input_variables=[\"context\"])\n",
        "prompt = ChatPromptTemplate.from_template(template)\n",
        "\n",
        "\n",
        "# Объявляем функцию, которая будет собирать строку из полученных документов\n",
        "def format_docs(docs):\n",
        "    return \"\\n\\n\".join([d.page_content for d in docs])\n",
        "\n",
        "# Задаём ретривер\n",
        "#retriever = db.as_retriever()\n",
        "\n",
        "\n",
        "# Создаём цепочку\n",
        "chain = (\n",
        "    {\"context\": retriever | format_docs, \"question\": RunnablePassthrough()}\n",
        "    | prompt\n",
        "    | llm\n",
        "    | StrOutputParser()\n",
        ")"
      ],
      "metadata": {
        "colab": {
          "base_uri": "https://localhost:8080/"
        },
        "id": "VhB2W70cv75A",
        "outputId": "e9abf238-952a-4308-c533-3b7f783c827b"
      },
      "execution_count": 17,
      "outputs": [
        {
          "output_type": "stream",
          "name": "stderr",
          "text": [
            "/usr/local/lib/python3.10/dist-packages/langchain_core/_api/deprecation.py:119: LangChainDeprecationWarning: The class `HuggingFaceEndpoint` was deprecated in LangChain 0.0.37 and will be removed in 0.3. An updated version of the class exists in the from langchain-huggingface package and should be used instead. To use it run `pip install -U from langchain-huggingface` and import as `from from langchain_huggingface import llms import HuggingFaceEndpoint`.\n",
            "  warn_deprecated(\n"
          ]
        },
        {
          "output_type": "stream",
          "name": "stdout",
          "text": [
            "The token has not been saved to the git credentials helper. Pass `add_to_git_credential=True` in this function directly or `--add-to-git-credential` if using via `huggingface-cli` if you want to set the git credential as well.\n",
            "Token is valid (permission: read).\n",
            "Your token has been saved to /root/.cache/huggingface/token\n",
            "Login successful\n"
          ]
        }
      ]
    },
    {
      "cell_type": "code",
      "source": [
        "df['question'].iloc[1]"
      ],
      "metadata": {
        "colab": {
          "base_uri": "https://localhost:8080/",
          "height": 35
        },
        "id": "PX6E5mOH6ZDQ",
        "outputId": "f631bf54-cf2f-422f-b55d-0a90d1df2e21"
      },
      "execution_count": 18,
      "outputs": [
        {
          "output_type": "execute_result",
          "data": {
            "text/plain": [
              "'Где Маша остановилась в Петербурге?'"
            ],
            "application/vnd.google.colaboratory.intrinsic+json": {
              "type": "string"
            }
          },
          "metadata": {},
          "execution_count": 18
        }
      ]
    },
    {
      "cell_type": "code",
      "source": [
        "\n",
        "chain.invoke(df['question'].iloc[1])"
      ],
      "metadata": {
        "colab": {
          "base_uri": "https://localhost:8080/",
          "height": 35
        },
        "id": "HeH3_vqM2i25",
        "outputId": "6e0967c8-4a8d-4bca-ed1e-134966f5672d"
      },
      "execution_count": 19,
      "outputs": [
        {
          "output_type": "execute_result",
          "data": {
            "text/plain": [
              "'Маша остановилась в Царском Селе, в саду встречает императрицу.'"
            ],
            "application/vnd.google.colaboratory.intrinsic+json": {
              "type": "string"
            }
          },
          "metadata": {},
          "execution_count": 19
        }
      ]
    },
    {
      "cell_type": "code",
      "source": [
        "df['answer'] = ''\n",
        "for i in tqdm(range(len(df))):\n",
        "  res = chain.invoke(df['question'].iloc[i])\n",
        "  res = res.replace('Answer:', '').replace('answer:', '').strip()\n",
        "\n",
        "  if len(res) < 70:\n",
        "    df['answer'].iloc[i] = res\n",
        "  else:\n",
        "    df['answer'].iloc[i] = res[:69]"
      ],
      "metadata": {
        "colab": {
          "base_uri": "https://localhost:8080/"
        },
        "id": "52bO7iar63tY",
        "outputId": "9230a834-a7b5-487c-8231-a8fd9c35e624"
      },
      "execution_count": 20,
      "outputs": [
        {
          "output_type": "stream",
          "name": "stderr",
          "text": [
            "100%|██████████| 15/15 [00:26<00:00,  1.74s/it]\n"
          ]
        }
      ]
    },
    {
      "cell_type": "code",
      "source": [
        "df.to_csv('res.csv', index=False)"
      ],
      "metadata": {
        "id": "2IbRTUAQ7Vt9"
      },
      "execution_count": 21,
      "outputs": []
    },
    {
      "cell_type": "code",
      "source": [
        "df"
      ],
      "metadata": {
        "colab": {
          "base_uri": "https://localhost:8080/",
          "height": 520
        },
        "id": "cIggldxv8aLu",
        "outputId": "0e13e9cc-2b1b-4216-8dc9-30f9cfb3ef19"
      },
      "execution_count": 22,
      "outputs": [
        {
          "output_type": "execute_result",
          "data": {
            "text/plain": [
              "                                             question  \\\n",
              "0                     Кого убили раздетой на крыльце?   \n",
              "1                 Где Маша остановилась в Петербурге?   \n",
              "2          Почему Гринев и Савельич сбились с дороги?   \n",
              "3         Кто издевался над Машей и морил ее голодом?   \n",
              "4        Куда приговорили отправить Гринева в ссылку?   \n",
              "5           Сколько детей было в семье Петра Гринева?   \n",
              "6                       Кто воспитывал Петра Гринева?   \n",
              "7   Сколько казаков попросил Гринев, чтобы очистит...   \n",
              "8   Как далеко находилась от города Белогорская кр...   \n",
              "9                         Как звали дочку коменданта?   \n",
              "10                         Что Петя подарил вожатому?   \n",
              "11                   Какое напутствие дал Петру отец?   \n",
              "12  Кого Пугачев оставил комендантом Белогорской к...   \n",
              "13               Почему Швабрина перевели в крепость?   \n",
              "14          Кого просил пощадить Савельич у Пугачева?   \n",
              "\n",
              "                                               answer  \n",
              "0        Василису Егоровну убили раздетой на крыльце.  \n",
              "1   Маша остановилась в Царском Селе, в саду встре...  \n",
              "2   Ответ: Гринев и Савельич сбились с дороги из-з...  \n",
              "3     Швабрин издевался над Машей и морил ее голодом.  \n",
              "4                        Отправили в ссылку в Сибирь.  \n",
              "5   Ответ: В семье Петра Гринева было девять детей...  \n",
              "6           Дядька Савельич воспитывал Петра Гринева.  \n",
              "7   Гринев попросил у генерала полсотни казаков, ч...  \n",
              "8   Ответ: В тексте нет данных о расстоянии между ...  \n",
              "9                                         Ответ: Маша  \n",
              "10  Ответ: В контексте, нет упоминания о том, что ...  \n",
              "11  Отец Пётра поручил ему беречь платье снову, а ...  \n",
              "12  Ответ: Пугачев оставил Швабрина комендантом Бе...  \n",
              "13          Швабрина перевели в крепость из-за дуэли.  \n",
              "14             Он просил пощадить Гринева у Пугачева.  "
            ],
            "text/html": [
              "\n",
              "  <div id=\"df-b8f806e3-249c-4184-86ee-b864ebe8c232\" class=\"colab-df-container\">\n",
              "    <div>\n",
              "<style scoped>\n",
              "    .dataframe tbody tr th:only-of-type {\n",
              "        vertical-align: middle;\n",
              "    }\n",
              "\n",
              "    .dataframe tbody tr th {\n",
              "        vertical-align: top;\n",
              "    }\n",
              "\n",
              "    .dataframe thead th {\n",
              "        text-align: right;\n",
              "    }\n",
              "</style>\n",
              "<table border=\"1\" class=\"dataframe\">\n",
              "  <thead>\n",
              "    <tr style=\"text-align: right;\">\n",
              "      <th></th>\n",
              "      <th>question</th>\n",
              "      <th>answer</th>\n",
              "    </tr>\n",
              "  </thead>\n",
              "  <tbody>\n",
              "    <tr>\n",
              "      <th>0</th>\n",
              "      <td>Кого убили раздетой на крыльце?</td>\n",
              "      <td>Василису Егоровну убили раздетой на крыльце.</td>\n",
              "    </tr>\n",
              "    <tr>\n",
              "      <th>1</th>\n",
              "      <td>Где Маша остановилась в Петербурге?</td>\n",
              "      <td>Маша остановилась в Царском Селе, в саду встре...</td>\n",
              "    </tr>\n",
              "    <tr>\n",
              "      <th>2</th>\n",
              "      <td>Почему Гринев и Савельич сбились с дороги?</td>\n",
              "      <td>Ответ: Гринев и Савельич сбились с дороги из-з...</td>\n",
              "    </tr>\n",
              "    <tr>\n",
              "      <th>3</th>\n",
              "      <td>Кто издевался над Машей и морил ее голодом?</td>\n",
              "      <td>Швабрин издевался над Машей и морил ее голодом.</td>\n",
              "    </tr>\n",
              "    <tr>\n",
              "      <th>4</th>\n",
              "      <td>Куда приговорили отправить Гринева в ссылку?</td>\n",
              "      <td>Отправили в ссылку в Сибирь.</td>\n",
              "    </tr>\n",
              "    <tr>\n",
              "      <th>5</th>\n",
              "      <td>Сколько детей было в семье Петра Гринева?</td>\n",
              "      <td>Ответ: В семье Петра Гринева было девять детей...</td>\n",
              "    </tr>\n",
              "    <tr>\n",
              "      <th>6</th>\n",
              "      <td>Кто воспитывал Петра Гринева?</td>\n",
              "      <td>Дядька Савельич воспитывал Петра Гринева.</td>\n",
              "    </tr>\n",
              "    <tr>\n",
              "      <th>7</th>\n",
              "      <td>Сколько казаков попросил Гринев, чтобы очистит...</td>\n",
              "      <td>Гринев попросил у генерала полсотни казаков, ч...</td>\n",
              "    </tr>\n",
              "    <tr>\n",
              "      <th>8</th>\n",
              "      <td>Как далеко находилась от города Белогорская кр...</td>\n",
              "      <td>Ответ: В тексте нет данных о расстоянии между ...</td>\n",
              "    </tr>\n",
              "    <tr>\n",
              "      <th>9</th>\n",
              "      <td>Как звали дочку коменданта?</td>\n",
              "      <td>Ответ: Маша</td>\n",
              "    </tr>\n",
              "    <tr>\n",
              "      <th>10</th>\n",
              "      <td>Что Петя подарил вожатому?</td>\n",
              "      <td>Ответ: В контексте, нет упоминания о том, что ...</td>\n",
              "    </tr>\n",
              "    <tr>\n",
              "      <th>11</th>\n",
              "      <td>Какое напутствие дал Петру отец?</td>\n",
              "      <td>Отец Пётра поручил ему беречь платье снову, а ...</td>\n",
              "    </tr>\n",
              "    <tr>\n",
              "      <th>12</th>\n",
              "      <td>Кого Пугачев оставил комендантом Белогорской к...</td>\n",
              "      <td>Ответ: Пугачев оставил Швабрина комендантом Бе...</td>\n",
              "    </tr>\n",
              "    <tr>\n",
              "      <th>13</th>\n",
              "      <td>Почему Швабрина перевели в крепость?</td>\n",
              "      <td>Швабрина перевели в крепость из-за дуэли.</td>\n",
              "    </tr>\n",
              "    <tr>\n",
              "      <th>14</th>\n",
              "      <td>Кого просил пощадить Савельич у Пугачева?</td>\n",
              "      <td>Он просил пощадить Гринева у Пугачева.</td>\n",
              "    </tr>\n",
              "  </tbody>\n",
              "</table>\n",
              "</div>\n",
              "    <div class=\"colab-df-buttons\">\n",
              "\n",
              "  <div class=\"colab-df-container\">\n",
              "    <button class=\"colab-df-convert\" onclick=\"convertToInteractive('df-b8f806e3-249c-4184-86ee-b864ebe8c232')\"\n",
              "            title=\"Convert this dataframe to an interactive table.\"\n",
              "            style=\"display:none;\">\n",
              "\n",
              "  <svg xmlns=\"http://www.w3.org/2000/svg\" height=\"24px\" viewBox=\"0 -960 960 960\">\n",
              "    <path d=\"M120-120v-720h720v720H120Zm60-500h600v-160H180v160Zm220 220h160v-160H400v160Zm0 220h160v-160H400v160ZM180-400h160v-160H180v160Zm440 0h160v-160H620v160ZM180-180h160v-160H180v160Zm440 0h160v-160H620v160Z\"/>\n",
              "  </svg>\n",
              "    </button>\n",
              "\n",
              "  <style>\n",
              "    .colab-df-container {\n",
              "      display:flex;\n",
              "      gap: 12px;\n",
              "    }\n",
              "\n",
              "    .colab-df-convert {\n",
              "      background-color: #E8F0FE;\n",
              "      border: none;\n",
              "      border-radius: 50%;\n",
              "      cursor: pointer;\n",
              "      display: none;\n",
              "      fill: #1967D2;\n",
              "      height: 32px;\n",
              "      padding: 0 0 0 0;\n",
              "      width: 32px;\n",
              "    }\n",
              "\n",
              "    .colab-df-convert:hover {\n",
              "      background-color: #E2EBFA;\n",
              "      box-shadow: 0px 1px 2px rgba(60, 64, 67, 0.3), 0px 1px 3px 1px rgba(60, 64, 67, 0.15);\n",
              "      fill: #174EA6;\n",
              "    }\n",
              "\n",
              "    .colab-df-buttons div {\n",
              "      margin-bottom: 4px;\n",
              "    }\n",
              "\n",
              "    [theme=dark] .colab-df-convert {\n",
              "      background-color: #3B4455;\n",
              "      fill: #D2E3FC;\n",
              "    }\n",
              "\n",
              "    [theme=dark] .colab-df-convert:hover {\n",
              "      background-color: #434B5C;\n",
              "      box-shadow: 0px 1px 3px 1px rgba(0, 0, 0, 0.15);\n",
              "      filter: drop-shadow(0px 1px 2px rgba(0, 0, 0, 0.3));\n",
              "      fill: #FFFFFF;\n",
              "    }\n",
              "  </style>\n",
              "\n",
              "    <script>\n",
              "      const buttonEl =\n",
              "        document.querySelector('#df-b8f806e3-249c-4184-86ee-b864ebe8c232 button.colab-df-convert');\n",
              "      buttonEl.style.display =\n",
              "        google.colab.kernel.accessAllowed ? 'block' : 'none';\n",
              "\n",
              "      async function convertToInteractive(key) {\n",
              "        const element = document.querySelector('#df-b8f806e3-249c-4184-86ee-b864ebe8c232');\n",
              "        const dataTable =\n",
              "          await google.colab.kernel.invokeFunction('convertToInteractive',\n",
              "                                                    [key], {});\n",
              "        if (!dataTable) return;\n",
              "\n",
              "        const docLinkHtml = 'Like what you see? Visit the ' +\n",
              "          '<a target=\"_blank\" href=https://colab.research.google.com/notebooks/data_table.ipynb>data table notebook</a>'\n",
              "          + ' to learn more about interactive tables.';\n",
              "        element.innerHTML = '';\n",
              "        dataTable['output_type'] = 'display_data';\n",
              "        await google.colab.output.renderOutput(dataTable, element);\n",
              "        const docLink = document.createElement('div');\n",
              "        docLink.innerHTML = docLinkHtml;\n",
              "        element.appendChild(docLink);\n",
              "      }\n",
              "    </script>\n",
              "  </div>\n",
              "\n",
              "\n",
              "<div id=\"df-9bcde693-e7a8-4212-907d-b18adf8cec9d\">\n",
              "  <button class=\"colab-df-quickchart\" onclick=\"quickchart('df-9bcde693-e7a8-4212-907d-b18adf8cec9d')\"\n",
              "            title=\"Suggest charts\"\n",
              "            style=\"display:none;\">\n",
              "\n",
              "<svg xmlns=\"http://www.w3.org/2000/svg\" height=\"24px\"viewBox=\"0 0 24 24\"\n",
              "     width=\"24px\">\n",
              "    <g>\n",
              "        <path d=\"M19 3H5c-1.1 0-2 .9-2 2v14c0 1.1.9 2 2 2h14c1.1 0 2-.9 2-2V5c0-1.1-.9-2-2-2zM9 17H7v-7h2v7zm4 0h-2V7h2v10zm4 0h-2v-4h2v4z\"/>\n",
              "    </g>\n",
              "</svg>\n",
              "  </button>\n",
              "\n",
              "<style>\n",
              "  .colab-df-quickchart {\n",
              "      --bg-color: #E8F0FE;\n",
              "      --fill-color: #1967D2;\n",
              "      --hover-bg-color: #E2EBFA;\n",
              "      --hover-fill-color: #174EA6;\n",
              "      --disabled-fill-color: #AAA;\n",
              "      --disabled-bg-color: #DDD;\n",
              "  }\n",
              "\n",
              "  [theme=dark] .colab-df-quickchart {\n",
              "      --bg-color: #3B4455;\n",
              "      --fill-color: #D2E3FC;\n",
              "      --hover-bg-color: #434B5C;\n",
              "      --hover-fill-color: #FFFFFF;\n",
              "      --disabled-bg-color: #3B4455;\n",
              "      --disabled-fill-color: #666;\n",
              "  }\n",
              "\n",
              "  .colab-df-quickchart {\n",
              "    background-color: var(--bg-color);\n",
              "    border: none;\n",
              "    border-radius: 50%;\n",
              "    cursor: pointer;\n",
              "    display: none;\n",
              "    fill: var(--fill-color);\n",
              "    height: 32px;\n",
              "    padding: 0;\n",
              "    width: 32px;\n",
              "  }\n",
              "\n",
              "  .colab-df-quickchart:hover {\n",
              "    background-color: var(--hover-bg-color);\n",
              "    box-shadow: 0 1px 2px rgba(60, 64, 67, 0.3), 0 1px 3px 1px rgba(60, 64, 67, 0.15);\n",
              "    fill: var(--button-hover-fill-color);\n",
              "  }\n",
              "\n",
              "  .colab-df-quickchart-complete:disabled,\n",
              "  .colab-df-quickchart-complete:disabled:hover {\n",
              "    background-color: var(--disabled-bg-color);\n",
              "    fill: var(--disabled-fill-color);\n",
              "    box-shadow: none;\n",
              "  }\n",
              "\n",
              "  .colab-df-spinner {\n",
              "    border: 2px solid var(--fill-color);\n",
              "    border-color: transparent;\n",
              "    border-bottom-color: var(--fill-color);\n",
              "    animation:\n",
              "      spin 1s steps(1) infinite;\n",
              "  }\n",
              "\n",
              "  @keyframes spin {\n",
              "    0% {\n",
              "      border-color: transparent;\n",
              "      border-bottom-color: var(--fill-color);\n",
              "      border-left-color: var(--fill-color);\n",
              "    }\n",
              "    20% {\n",
              "      border-color: transparent;\n",
              "      border-left-color: var(--fill-color);\n",
              "      border-top-color: var(--fill-color);\n",
              "    }\n",
              "    30% {\n",
              "      border-color: transparent;\n",
              "      border-left-color: var(--fill-color);\n",
              "      border-top-color: var(--fill-color);\n",
              "      border-right-color: var(--fill-color);\n",
              "    }\n",
              "    40% {\n",
              "      border-color: transparent;\n",
              "      border-right-color: var(--fill-color);\n",
              "      border-top-color: var(--fill-color);\n",
              "    }\n",
              "    60% {\n",
              "      border-color: transparent;\n",
              "      border-right-color: var(--fill-color);\n",
              "    }\n",
              "    80% {\n",
              "      border-color: transparent;\n",
              "      border-right-color: var(--fill-color);\n",
              "      border-bottom-color: var(--fill-color);\n",
              "    }\n",
              "    90% {\n",
              "      border-color: transparent;\n",
              "      border-bottom-color: var(--fill-color);\n",
              "    }\n",
              "  }\n",
              "</style>\n",
              "\n",
              "  <script>\n",
              "    async function quickchart(key) {\n",
              "      const quickchartButtonEl =\n",
              "        document.querySelector('#' + key + ' button');\n",
              "      quickchartButtonEl.disabled = true;  // To prevent multiple clicks.\n",
              "      quickchartButtonEl.classList.add('colab-df-spinner');\n",
              "      try {\n",
              "        const charts = await google.colab.kernel.invokeFunction(\n",
              "            'suggestCharts', [key], {});\n",
              "      } catch (error) {\n",
              "        console.error('Error during call to suggestCharts:', error);\n",
              "      }\n",
              "      quickchartButtonEl.classList.remove('colab-df-spinner');\n",
              "      quickchartButtonEl.classList.add('colab-df-quickchart-complete');\n",
              "    }\n",
              "    (() => {\n",
              "      let quickchartButtonEl =\n",
              "        document.querySelector('#df-9bcde693-e7a8-4212-907d-b18adf8cec9d button');\n",
              "      quickchartButtonEl.style.display =\n",
              "        google.colab.kernel.accessAllowed ? 'block' : 'none';\n",
              "    })();\n",
              "  </script>\n",
              "</div>\n",
              "    </div>\n",
              "  </div>\n"
            ],
            "application/vnd.google.colaboratory.intrinsic+json": {
              "type": "dataframe",
              "variable_name": "df",
              "summary": "{\n  \"name\": \"df\",\n  \"rows\": 15,\n  \"fields\": [\n    {\n      \"column\": \"question\",\n      \"properties\": {\n        \"dtype\": \"string\",\n        \"num_unique_values\": 15,\n        \"samples\": [\n          \"\\u041a\\u0430\\u043a \\u0437\\u0432\\u0430\\u043b\\u0438 \\u0434\\u043e\\u0447\\u043a\\u0443 \\u043a\\u043e\\u043c\\u0435\\u043d\\u0434\\u0430\\u043d\\u0442\\u0430?\",\n          \"\\u041a\\u0430\\u043a\\u043e\\u0435 \\u043d\\u0430\\u043f\\u0443\\u0442\\u0441\\u0442\\u0432\\u0438\\u0435 \\u0434\\u0430\\u043b \\u041f\\u0435\\u0442\\u0440\\u0443 \\u043e\\u0442\\u0435\\u0446?\",\n          \"\\u041a\\u043e\\u0433\\u043e \\u0443\\u0431\\u0438\\u043b\\u0438 \\u0440\\u0430\\u0437\\u0434\\u0435\\u0442\\u043e\\u0439 \\u043d\\u0430 \\u043a\\u0440\\u044b\\u043b\\u044c\\u0446\\u0435?\"\n        ],\n        \"semantic_type\": \"\",\n        \"description\": \"\"\n      }\n    },\n    {\n      \"column\": \"answer\",\n      \"properties\": {\n        \"dtype\": \"string\",\n        \"num_unique_values\": 15,\n        \"samples\": [\n          \"\\u041e\\u0442\\u0432\\u0435\\u0442: \\u041c\\u0430\\u0448\\u0430\",\n          \"\\u041e\\u0442\\u0435\\u0446 \\u041f\\u0451\\u0442\\u0440\\u0430 \\u043f\\u043e\\u0440\\u0443\\u0447\\u0438\\u043b \\u0435\\u043c\\u0443 \\u0431\\u0435\\u0440\\u0435\\u0447\\u044c \\u043f\\u043b\\u0430\\u0442\\u044c\\u0435 \\u0441\\u043d\\u043e\\u0432\\u0443, \\u0430 \\u0447\\u0435\\u0441\\u0442\\u044c \\u0441\\u043c\\u043e\\u043b\\u043e\\u0434\\u0443.\",\n          \"\\u0412\\u0430\\u0441\\u0438\\u043b\\u0438\\u0441\\u0443 \\u0415\\u0433\\u043e\\u0440\\u043e\\u0432\\u043d\\u0443 \\u0443\\u0431\\u0438\\u043b\\u0438 \\u0440\\u0430\\u0437\\u0434\\u0435\\u0442\\u043e\\u0439 \\u043d\\u0430 \\u043a\\u0440\\u044b\\u043b\\u044c\\u0446\\u0435.\"\n        ],\n        \"semantic_type\": \"\",\n        \"description\": \"\"\n      }\n    }\n  ]\n}"
            }
          },
          "metadata": {},
          "execution_count": 22
        }
      ]
    },
    {
      "cell_type": "code",
      "source": [],
      "metadata": {
        "id": "ACEGko3K8a-S"
      },
      "execution_count": 22,
      "outputs": []
    }
  ]
}